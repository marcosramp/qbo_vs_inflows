{
 "cells": [
  {
   "cell_type": "code",
   "execution_count": 11,
   "metadata": {},
   "outputs": [],
   "source": [
    "import pandas as pd\n",
    "import numpy as np\n",
    "import matplotlib.pyplot as plt\n",
    "%matplotlib inline"
   ]
  },
  {
   "cell_type": "code",
   "execution_count": 12,
   "metadata": {},
   "outputs": [],
   "source": [
    "df = pd.read_csv('qbo_inflows.csv')"
   ]
  },
  {
   "cell_type": "code",
   "execution_count": 13,
   "metadata": {},
   "outputs": [
    {
     "data": {
      "text/plain": [
       "(977, 5)"
      ]
     },
     "execution_count": 13,
     "metadata": {},
     "output_type": "execute_result"
    }
   ],
   "source": [
    "df.shape"
   ]
  },
  {
   "cell_type": "code",
   "execution_count": 20,
   "metadata": {},
   "outputs": [
    {
     "data": {
      "text/html": [
       "<div>\n",
       "<style scoped>\n",
       "    .dataframe tbody tr th:only-of-type {\n",
       "        vertical-align: middle;\n",
       "    }\n",
       "\n",
       "    .dataframe tbody tr th {\n",
       "        vertical-align: top;\n",
       "    }\n",
       "\n",
       "    .dataframe thead th {\n",
       "        text-align: right;\n",
       "    }\n",
       "</style>\n",
       "<table border=\"1\" class=\"dataframe\">\n",
       "  <thead>\n",
       "    <tr style=\"text-align: right;\">\n",
       "      <th></th>\n",
       "      <th>business_id</th>\n",
       "      <th>business_industry_group</th>\n",
       "      <th>time_period</th>\n",
       "      <th>qbo_revenue</th>\n",
       "      <th>inflows</th>\n",
       "    </tr>\n",
       "  </thead>\n",
       "  <tbody>\n",
       "    <tr>\n",
       "      <th>0</th>\n",
       "      <td>3749</td>\n",
       "      <td>Non-Profit and Religious</td>\n",
       "      <td>2021 Q2</td>\n",
       "      <td>221051.25</td>\n",
       "      <td>226435.24</td>\n",
       "    </tr>\n",
       "    <tr>\n",
       "      <th>1</th>\n",
       "      <td>4021</td>\n",
       "      <td>Health Care Equipment &amp; Services</td>\n",
       "      <td>2021 Q2</td>\n",
       "      <td>730804.75</td>\n",
       "      <td>743141.84</td>\n",
       "    </tr>\n",
       "    <tr>\n",
       "      <th>2</th>\n",
       "      <td>5336</td>\n",
       "      <td>Health Care Equipment &amp; Services</td>\n",
       "      <td>2021 Q2</td>\n",
       "      <td>448427.98</td>\n",
       "      <td>451832.17</td>\n",
       "    </tr>\n",
       "    <tr>\n",
       "      <th>3</th>\n",
       "      <td>608</td>\n",
       "      <td>Consumer Durables &amp; Apparel</td>\n",
       "      <td>2021 Q2</td>\n",
       "      <td>1158804.23</td>\n",
       "      <td>1577420.84</td>\n",
       "    </tr>\n",
       "    <tr>\n",
       "      <th>4</th>\n",
       "      <td>42</td>\n",
       "      <td>Software &amp; Services</td>\n",
       "      <td>2021 Q2</td>\n",
       "      <td>75935.75</td>\n",
       "      <td>1903304.80</td>\n",
       "    </tr>\n",
       "  </tbody>\n",
       "</table>\n",
       "</div>"
      ],
      "text/plain": [
       "   business_id           business_industry_group time_period  qbo_revenue  \\\n",
       "0         3749          Non-Profit and Religious     2021 Q2    221051.25   \n",
       "1         4021  Health Care Equipment & Services     2021 Q2    730804.75   \n",
       "2         5336  Health Care Equipment & Services     2021 Q2    448427.98   \n",
       "3          608       Consumer Durables & Apparel     2021 Q2   1158804.23   \n",
       "4           42               Software & Services     2021 Q2     75935.75   \n",
       "\n",
       "      inflows  \n",
       "0   226435.24  \n",
       "1   743141.84  \n",
       "2   451832.17  \n",
       "3  1577420.84  \n",
       "4  1903304.80  "
      ]
     },
     "execution_count": 20,
     "metadata": {},
     "output_type": "execute_result"
    }
   ],
   "source": [
    "df.head()"
   ]
  },
  {
   "cell_type": "markdown",
   "metadata": {},
   "source": [
    "## QBO Revenue vs Inflows"
   ]
  },
  {
   "cell_type": "code",
   "execution_count": 16,
   "metadata": {},
   "outputs": [
    {
     "data": {
      "text/plain": [
       "[<matplotlib.lines.Line2D at 0x7fdefc7f6910>]"
      ]
     },
     "execution_count": 16,
     "metadata": {},
     "output_type": "execute_result"
    },
    {
     "data": {
      "image/png": "[encoded data removed]",
      "text/plain": [
       "<Figure size 432x288 with 1 Axes>"
      ]
     },
     "metadata": {
      "needs_background": "light"
     },
     "output_type": "display_data"
    }
   ],
   "source": [
    "cond_1 = df['qbo_revenue'] < 20000000\n",
    "cond_2 = df['inflows'] < 5000000\n",
    "new_df = df.loc[(cond_1) & (cond_2)]\n",
    "x = new_df['ianflows']\n",
    "y = new_df['qbo_revenue']\n",
    "plt.scatter(x, y)\n",
    "plt.xlabel('inflows')\n",
    "plt.ylabel('qbo_revenue')\n",
    "\n",
    "m, b = np.polyfit(x, y, 1)\n",
    "plt.plot(x, m*x + b)\n"
   ]
  },
  {
   "cell_type": "code",
   "execution_count": 18,
   "metadata": {},
   "outputs": [
    {
     "data": {
      "text/html": [
       "<div>\n",
       "<style scoped>\n",
       "    .dataframe tbody tr th:only-of-type {\n",
       "        vertical-align: middle;\n",
       "    }\n",
       "\n",
       "    .dataframe tbody tr th {\n",
       "        vertical-align: top;\n",
       "    }\n",
       "\n",
       "    .dataframe thead th {\n",
       "        text-align: right;\n",
       "    }\n",
       "</style>\n",
       "<table border=\"1\" class=\"dataframe\">\n",
       "  <thead>\n",
       "    <tr style=\"text-align: right;\">\n",
       "      <th></th>\n",
       "      <th>business_id</th>\n",
       "      <th>qbo_revenue</th>\n",
       "      <th>inflows</th>\n",
       "    </tr>\n",
       "  </thead>\n",
       "  <tbody>\n",
       "    <tr>\n",
       "      <th>count</th>\n",
       "      <td>977.000000</td>\n",
       "      <td>9.770000e+02</td>\n",
       "      <td>7.150000e+02</td>\n",
       "    </tr>\n",
       "    <tr>\n",
       "      <th>mean</th>\n",
       "      <td>4095.940635</td>\n",
       "      <td>1.853827e+06</td>\n",
       "      <td>5.277710e+06</td>\n",
       "    </tr>\n",
       "    <tr>\n",
       "      <th>std</th>\n",
       "      <td>2544.262012</td>\n",
       "      <td>4.276208e+06</td>\n",
       "      <td>2.507004e+07</td>\n",
       "    </tr>\n",
       "    <tr>\n",
       "      <th>min</th>\n",
       "      <td>5.000000</td>\n",
       "      <td>-1.859990e+06</td>\n",
       "      <td>0.000000e+00</td>\n",
       "    </tr>\n",
       "    <tr>\n",
       "      <th>25%</th>\n",
       "      <td>950.000000</td>\n",
       "      <td>1.408322e+05</td>\n",
       "      <td>2.662525e+05</td>\n",
       "    </tr>\n",
       "    <tr>\n",
       "      <th>50%</th>\n",
       "      <td>4966.000000</td>\n",
       "      <td>5.108587e+05</td>\n",
       "      <td>1.013555e+06</td>\n",
       "    </tr>\n",
       "    <tr>\n",
       "      <th>75%</th>\n",
       "      <td>6100.000000</td>\n",
       "      <td>1.658329e+06</td>\n",
       "      <td>2.909828e+06</td>\n",
       "    </tr>\n",
       "    <tr>\n",
       "      <th>max</th>\n",
       "      <td>8311.000000</td>\n",
       "      <td>6.701060e+07</td>\n",
       "      <td>5.469618e+08</td>\n",
       "    </tr>\n",
       "  </tbody>\n",
       "</table>\n",
       "</div>"
      ],
      "text/plain": [
       "       business_id   qbo_revenue       inflows\n",
       "count   977.000000  9.770000e+02  7.150000e+02\n",
       "mean   4095.940635  1.853827e+06  5.277710e+06\n",
       "std    2544.262012  4.276208e+06  2.507004e+07\n",
       "min       5.000000 -1.859990e+06  0.000000e+00\n",
       "25%     950.000000  1.408322e+05  2.662525e+05\n",
       "50%    4966.000000  5.108587e+05  1.013555e+06\n",
       "75%    6100.000000  1.658329e+06  2.909828e+06\n",
       "max    8311.000000  6.701060e+07  5.469618e+08"
      ]
     },
     "execution_count": 18,
     "metadata": {},
     "output_type": "execute_result"
    }
   ],
   "source": [
    "df.describe()"
   ]
  },
  {
   "cell_type": "markdown",
   "metadata": {},
   "source": [
    "## Does cutting by relevant industry_group make a difference?"
   ]
  },
  {
   "cell_type": "code",
   "execution_count": 32,
   "metadata": {},
   "outputs": [
    {
     "data": {
      "text/plain": [
       "(173, 5)"
      ]
     },
     "execution_count": 32,
     "metadata": {},
     "output_type": "execute_result"
    }
   ],
   "source": [
    "industry_df = df.loc[df['business_industry_group'].isin(['Consumer Durables & Apparel', 'Food, Beverage & Tobacco','Retailing', 'Household & Personal Products',\n",
    "                                                        'Consumer Staples', 'Capital Goods', 'Technology Hardware & Equipment', 'Consumer Discretionary', \n",
    "                                                        'Automobiles & Components'])]\n",
    "\n",
    "industry_df.shape"
   ]
  },
  {
   "cell_type": "code",
   "execution_count": 31,
   "metadata": {},
   "outputs": [
    {
     "data": {
      "text/html": [
       "<div>\n",
       "<style scoped>\n",
       "    .dataframe tbody tr th:only-of-type {\n",
       "        vertical-align: middle;\n",
       "    }\n",
       "\n",
       "    .dataframe tbody tr th {\n",
       "        vertical-align: top;\n",
       "    }\n",
       "\n",
       "    .dataframe thead th {\n",
       "        text-align: right;\n",
       "    }\n",
       "</style>\n",
       "<table border=\"1\" class=\"dataframe\">\n",
       "  <thead>\n",
       "    <tr style=\"text-align: right;\">\n",
       "      <th></th>\n",
       "      <th>business_id</th>\n",
       "      <th>qbo_revenue</th>\n",
       "      <th>inflows</th>\n",
       "    </tr>\n",
       "  </thead>\n",
       "  <tbody>\n",
       "    <tr>\n",
       "      <th>count</th>\n",
       "      <td>173.000000</td>\n",
       "      <td>1.730000e+02</td>\n",
       "      <td>1.230000e+02</td>\n",
       "    </tr>\n",
       "    <tr>\n",
       "      <th>mean</th>\n",
       "      <td>3824.791908</td>\n",
       "      <td>2.655314e+06</td>\n",
       "      <td>7.745747e+06</td>\n",
       "    </tr>\n",
       "    <tr>\n",
       "      <th>std</th>\n",
       "      <td>2560.848055</td>\n",
       "      <td>4.910311e+06</td>\n",
       "      <td>2.241768e+07</td>\n",
       "    </tr>\n",
       "    <tr>\n",
       "      <th>min</th>\n",
       "      <td>34.000000</td>\n",
       "      <td>-3.894800e+02</td>\n",
       "      <td>0.000000e+00</td>\n",
       "    </tr>\n",
       "    <tr>\n",
       "      <th>25%</th>\n",
       "      <td>705.000000</td>\n",
       "      <td>2.776331e+05</td>\n",
       "      <td>4.875675e+05</td>\n",
       "    </tr>\n",
       "    <tr>\n",
       "      <th>50%</th>\n",
       "      <td>4888.000000</td>\n",
       "      <td>1.143313e+06</td>\n",
       "      <td>1.577421e+06</td>\n",
       "    </tr>\n",
       "    <tr>\n",
       "      <th>75%</th>\n",
       "      <td>5738.000000</td>\n",
       "      <td>2.538281e+06</td>\n",
       "      <td>4.732890e+06</td>\n",
       "    </tr>\n",
       "    <tr>\n",
       "      <th>max</th>\n",
       "      <td>8126.000000</td>\n",
       "      <td>4.320038e+07</td>\n",
       "      <td>1.703365e+08</td>\n",
       "    </tr>\n",
       "  </tbody>\n",
       "</table>\n",
       "</div>"
      ],
      "text/plain": [
       "       business_id   qbo_revenue       inflows\n",
       "count   173.000000  1.730000e+02  1.230000e+02\n",
       "mean   3824.791908  2.655314e+06  7.745747e+06\n",
       "std    2560.848055  4.910311e+06  2.241768e+07\n",
       "min      34.000000 -3.894800e+02  0.000000e+00\n",
       "25%     705.000000  2.776331e+05  4.875675e+05\n",
       "50%    4888.000000  1.143313e+06  1.577421e+06\n",
       "75%    5738.000000  2.538281e+06  4.732890e+06\n",
       "max    8126.000000  4.320038e+07  1.703365e+08"
      ]
     },
     "execution_count": 31,
     "metadata": {},
     "output_type": "execute_result"
    }
   ],
   "source": [
    "industry_df.describe()"
   ]
  },
  {
   "cell_type": "code",
   "execution_count": 28,
   "metadata": {},
   "outputs": [
    {
     "data": {
      "text/plain": [
       "[<matplotlib.lines.Line2D at 0x7fdefce16070>]"
      ]
     },
     "execution_count": 28,
     "metadata": {},
     "output_type": "execute_result"
    },
    {
     "data": {
      "image/png": "[encoded data removed]",
      "text/plain": [
       "<Figure size 432x288 with 1 Axes>"
      ]
     },
     "metadata": {
      "needs_background": "light"
     },
     "output_type": "display_data"
    }
   ],
   "source": [
    "cond_1 = df['qbo_revenue'] < 20000000\n",
    "cond_2 = df['inflows'] < 5000000\n",
    "industry_df = industry_df.loc[(cond_1) & (cond_2)]\n",
    "x = industry_df['inflows']\n",
    "y = industry_df['qbo_revenue']\n",
    "plt.scatter(x, y)\n",
    "plt.xlabel('inflows')\n",
    "plt.ylabel('qbo_revenue')\n",
    "\n",
    "m, b = np.polyfit(x, y, 1)\n",
    "plt.plot(x, m*x + b)\n"
   ]
  },
  {
   "cell_type": "code",
   "execution_count": null,
   "metadata": {},
   "outputs": [],
   "source": []
  }
 ],
 "metadata": {
  "kernelspec": {
   "display_name": "Python 3",
   "language": "python",
   "name": "python3"
  },
  "language_info": {
   "codemirror_mode": {
    "name": "ipython",
    "version": 3
   },
   "file_extension": ".py",
   "mimetype": "text/x-python",
   "name": "python",
   "nbconvert_exporter": "python",
   "pygments_lexer": "ipython3",
   "version": "3.8.5"
  }
 },
 "nbformat": 4,
 "nbformat_minor": 4
}
